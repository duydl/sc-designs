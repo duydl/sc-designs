{
 "cells": [
  {
   "cell_type": "code",
   "execution_count": 2,
   "metadata": {},
   "outputs": [
    {
     "name": "stdout",
     "output_type": "stream",
     "text": [
      "(256, 256)\n",
      "(256, 256)\n"
     ]
    }
   ],
   "source": [
    "import numpy as np\n",
    "from PIL import Image\n",
    "\n",
    "def roberts_edge_detection(image_path):\n",
    "    # Open the image and convert to grayscale\n",
    "    img = Image.open(image_path).convert('L')\n",
    "    img_array = np.asarray(img, dtype='int32')\n",
    "    print(img_array.shape)\n",
    "    # Define Robert's cross kernels\n",
    "    roberts_cross_v = np.array([[1, 0], [0, -1]])\n",
    "    roberts_cross_h = np.array([[0, 1], [-1, 0]])\n",
    "\n",
    "    # Get image dimensions\n",
    "    height, width = img_array.shape\n",
    "\n",
    "    # Initialize arrays for vertical and horizontal edge images\n",
    "    vertical_edges = np.zeros_like(img_array)\n",
    "    horizontal_edges = np.zeros_like(img_array)\n",
    "\n",
    "    # Apply the kernels to the image (convolution)\n",
    "    for i in range(height - 1):\n",
    "        for j in range(width - 1):\n",
    "            vertical_edges[i, j] = np.sum(roberts_cross_v * img_array[i:i+2, j:j+2])\n",
    "            horizontal_edges[i, j] = np.sum(roberts_cross_h * img_array[i:i+2, j:j+2])\n",
    "\n",
    "    # Combine the horizontal and vertical edges\n",
    "    edge_detected_image = np.sqrt(np.square(horizontal_edges) + np.square(vertical_edges))\n",
    "    edge_detected_image = (edge_detected_image / np.max(edge_detected_image) * 255).astype('uint8')\n",
    "    print(edge_detected_image.shape)\n",
    "    # Convert array to Image and show\n",
    "    edge_img = Image.fromarray(edge_detected_image)\n",
    "    edge_img.save(\"cameraman_1.png\")\n",
    "\n",
    "\n",
    "# Replace 'path_to_image.jpg' with your image file path\n",
    "roberts_edge_detection('cameraman.png')"
   ]
  },
  {
   "cell_type": "code",
   "execution_count": 2,
   "metadata": {},
   "outputs": [],
   "source": [
    "def roberts_edge_detection(image_path):\n",
    "    # Open the image and convert to grayscale\n",
    "    img = Image.open(image_path).convert('L')\n",
    "    img_array = np.asarray(img, dtype='int32')\n",
    "\n",
    "    # Define Robert's cross kernels\n",
    "    roberts_cross_v = np.array([[1, 0], [0, -1]])\n",
    "    \n",
    "    roberts_cross_h = np.array([[0, 1], [-1, 0]])\n",
    "\n",
    "    # Get image dimensions\n",
    "    height, width = img_array.shape\n",
    "\n",
    "    # Initialize arrays for vertical and horizontal edge images\n",
    "    vertical_edges = np.ones_like(img_array) \n",
    "    horizontal_edges = np.ones_like(img_array) \n",
    "\n",
    "    # Apply the kernels to the image (convolution)\n",
    "    for i in range(height - 1):\n",
    "        for j in range(width - 1):\n",
    "            vertical_edges[i, j] = np.sum(roberts_cross_v * img_array[i:i+2, j:j+2])\n",
    "            horizontal_edges[i, j] = np.sum(roberts_cross_h * img_array[i:i+2, j:j+2])\n",
    "\n",
    "    # Combine the horizontal and vertical edges using absolute sum\n",
    "    edge_detected_image = (np.abs(vertical_edges) + np.abs(horizontal_edges))/2\n",
    "    # edge_detected_image = (edge_detected_image / np.max(edge_detected_image) * 255)\n",
    "    # edge_detected_image = np.clip(edge_detected_image, 0, 255)\n",
    "\n",
    "    # Convert array to Image\n",
    "    edge_img = Image.fromarray(edge_detected_image.astype('uint8'))\n",
    "\n",
    "    # Save the edge-detected image\n",
    "    edge_img.save(\"cameraman_1_.png\")\n",
    "    \n",
    "\n",
    "# Replace 'path_to_image.jpg' with your image file path\n",
    "roberts_edge_detection('cameraman.png')"
   ]
  },
  {
   "cell_type": "code",
   "execution_count": 6,
   "metadata": {},
   "outputs": [
    {
     "name": "stderr",
     "output_type": "stream",
     "text": [
      "/tmp/ipykernel_18697/2010603475.py:16: RuntimeWarning: overflow encountered in ubyte_scalars\n",
      "  result = (gx + gy) / 2\n"
     ]
    }
   ],
   "source": [
    "import numpy as np\n",
    "from PIL import Image\n",
    "\n",
    "def abs_diff(a, b):\n",
    "    return (a - b) if (a > b) else (b - a)\n",
    "\n",
    "def roberts_edge_detection(input_image):\n",
    "    height, width = input_image.shape\n",
    "    output_image = np.zeros_like(input_image, dtype=np.uint16)\n",
    "\n",
    "    for i in range(height - 1):\n",
    "        for j in range(width - 1):\n",
    "            gx = abs_diff(input_image[i, j], input_image[i + 1, j + 1])\n",
    "            gy = abs_diff(input_image[i + 1, j], input_image[i, j + 1])\n",
    "            \n",
    "            result = (gx + gy) / 2\n",
    "            # output_image[i, j] = n\n",
    "            output_image[i, j] = result\n",
    "            \n",
    "    # edge_img = Image.fromarray(output_image)\n",
    "    # edge_img.save(\"cameraman_2.png\")\n",
    "\n",
    "    return output_image.astype(np.uint8)\n",
    "\n",
    "input_image = Image.open('cameraman.png').convert('L')  # Convert to grayscale\n",
    "input_image = np.array(input_image, dtype=np.uint8)\n",
    "\n",
    "# Apply Robert's Edge Detection\n",
    "output_image = roberts_edge_detection(input_image)\n",
    "\n",
    "# Save the output image\n",
    "Image.fromarray(output_image).save('cameraman_2.png')\n"
   ]
  },
  {
   "cell_type": "code",
   "execution_count": 17,
   "metadata": {},
   "outputs": [
    {
     "name": "stdout",
     "output_type": "stream",
     "text": [
      "Error: 1.1887015548406863%\n"
     ]
    }
   ],
   "source": [
    "import numpy as np\n",
    "from PIL import Image\n",
    "\n",
    "def calculate_error(image1, image2):\n",
    "    # Convert images to numpy arrays\n",
    "    img1 = np.array(image1, dtype=np.float32)\n",
    "    img2 = np.array(image2, dtype=np.float32)\n",
    "\n",
    "    # Calculate absolute difference\n",
    "    diff = np.abs(img1 - img2)\n",
    "\n",
    "    # Sum the differences, normalize, and convert to percentage\n",
    "    error = np.sum(diff) / (255 * 128 * 128) * 100\n",
    "    return error\n",
    "\n",
    "def main():\n",
    "    # Load the two images (T and S)\n",
    "    # Make sure to replace 'path_to_T.jpg' and 'path_to_S.jpg' with the actual image paths\n",
    "    T = Image.open('cameraman_1_.png').convert('L')  \n",
    "    S = Image.open('cameraman_2.png').convert('L')  \n",
    "    # S = Image.open('/home/ubuntu20_1/Projects_Ubuntu20/sc_designs/submodules/sc-simulation/cameraman_edge.png').convert('L')  \n",
    "    # S = Image.open('cameraman_readedge.png').convert('L')  \n",
    "\n",
    "    # Calculate the error\n",
    "    error = calculate_error(T, S)\n",
    "    print(f\"Error: {error}%\")\n",
    "\n",
    "if __name__ == \"__main__\":\n",
    "    main()"
   ]
  },
  {
   "cell_type": "code",
   "execution_count": 16,
   "metadata": {},
   "outputs": [
    {
     "name": "stdout",
     "output_type": "stream",
     "text": [
      "Error: 0.0%\n"
     ]
    }
   ],
   "source": [
    "import numpy as np\n",
    "from PIL import Image\n",
    "\n",
    "def calculate_error(image1, image2):\n",
    "    # Convert images to numpy arrays\n",
    "    img1 = np.array(image1, dtype=np.float32)\n",
    "    img2 = np.array(image2, dtype=np.float32)\n",
    "\n",
    "    # Calculate absolute difference\n",
    "    diff = np.abs(img1 - img2)\n",
    "\n",
    "    # Sum the differences, normalize, and convert to percentage\n",
    "    error = np.sum(diff) / (255 * 128 * 128) * 100\n",
    "    return error\n",
    "\n",
    "def main():\n",
    "    # Load the two images (T and S)\n",
    "    # Make sure to replace 'path_to_T.jpg' and 'path_to_S.jpg' with the actual image paths\n",
    "    T = Image.open('cameraman.png').convert('L')  # Convert to grayscale\n",
    "    # S = Image.open('cameraman_2.png').convert('L')  # Convert to grayscale\n",
    "    S = Image.open('/home/ubuntu20_1/Projects_Ubuntu20/sc_designs/submodules/sc-simulation/cameraman.png').convert('L')  # Convert to grayscale\n",
    "\n",
    "    # Calculate the error\n",
    "    error = calculate_error(T, S)\n",
    "    print(f\"Error: {error}%\")\n",
    "\n",
    "if __name__ == \"__main__\":\n",
    "    main()"
   ]
  },
  {
   "cell_type": "code",
   "execution_count": null,
   "metadata": {},
   "outputs": [],
   "source": []
  }
 ],
 "metadata": {
  "kernelspec": {
   "display_name": "Python 3",
   "language": "python",
   "name": "python3"
  },
  "language_info": {
   "codemirror_mode": {
    "name": "ipython",
    "version": 3
   },
   "file_extension": ".py",
   "mimetype": "text/x-python",
   "name": "python",
   "nbconvert_exporter": "python",
   "pygments_lexer": "ipython3",
   "version": "3.8.10"
  }
 },
 "nbformat": 4,
 "nbformat_minor": 2
}
